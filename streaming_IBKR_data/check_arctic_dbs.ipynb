{
 "cells": [
  {
   "cell_type": "code",
   "execution_count": 15,
   "id": "initial_id",
   "metadata": {
    "collapsed": true,
    "ExecuteTime": {
     "end_time": "2023-11-01T16:59:23.118922Z",
     "start_time": "2023-11-01T16:59:23.118288Z"
    }
   },
   "outputs": [],
   "source": [
    "import pandas as pd\n",
    "import numpy as np\n",
    "from arctic import Arctic\n"
   ]
  },
  {
   "cell_type": "code",
   "execution_count": 16,
   "outputs": [],
   "source": [
    "store = Arctic('localhost')\n",
    "#store.initialize_library('live_5sec_bars', lib_type=TICK_STORE)\n",
    "lib = store['live_IBKR_data']\n",
    "symb = 'ESZ3_top_of_book_test'\n",
    "\n"
   ],
   "metadata": {
    "collapsed": false,
    "ExecuteTime": {
     "end_time": "2023-11-01T16:59:24.680213Z",
     "start_time": "2023-11-01T16:59:24.638622Z"
    }
   },
   "id": "ba6e11bdfa15575"
  },
  {
   "cell_type": "code",
   "execution_count": 17,
   "outputs": [
    {
     "ename": "NoDataFoundException",
     "evalue": "",
     "output_type": "error",
     "traceback": [
      "\u001B[0;31m---------------------------------------------------------------------------\u001B[0m",
      "\u001B[0;31mNoDataFoundException\u001B[0m                      Traceback (most recent call last)",
      "Cell \u001B[0;32mIn[17], line 1\u001B[0m\n\u001B[0;32m----> 1\u001B[0m df \u001B[38;5;241m=\u001B[39m \u001B[43mlib\u001B[49m\u001B[38;5;241;43m.\u001B[39;49m\u001B[43mread\u001B[49m\u001B[43m(\u001B[49m\u001B[43msymb\u001B[49m\u001B[43m,\u001B[49m\u001B[43mdate_range\u001B[49m\u001B[38;5;241;43m=\u001B[39;49m\u001B[38;5;28;43;01mNone\u001B[39;49;00m\u001B[43m,\u001B[49m\u001B[43mcolumns\u001B[49m\u001B[38;5;241;43m=\u001B[39;49m\u001B[38;5;28;43;01mNone\u001B[39;49;00m\u001B[43m)\u001B[49m\n\u001B[1;32m      2\u001B[0m df\n",
      "File \u001B[0;32m~/.pyenv/versions/3.8.10/lib/python3.8/site-packages/arctic/tickstore/tickstore.py:298\u001B[0m, in \u001B[0;36mTickStore.read\u001B[0;34m(self, symbol, date_range, columns, include_images, allow_secondary, _target_tick_count)\u001B[0m\n\u001B[1;32m    296\u001B[0m date_range \u001B[38;5;241m=\u001B[39m to_pandas_closed_closed(date_range)\n\u001B[1;32m    297\u001B[0m query \u001B[38;5;241m=\u001B[39m \u001B[38;5;28mself\u001B[39m\u001B[38;5;241m.\u001B[39m_symbol_query(symbol)\n\u001B[0;32m--> 298\u001B[0m query\u001B[38;5;241m.\u001B[39mupdate(\u001B[38;5;28mself\u001B[39m\u001B[38;5;241m.\u001B[39m_mongo_date_range_query(symbol, date_range))\n\u001B[1;32m    300\u001B[0m \u001B[38;5;28;01mif\u001B[39;00m columns:\n\u001B[1;32m    301\u001B[0m     projection \u001B[38;5;241m=\u001B[39m \u001B[38;5;28mdict\u001B[39m([(SYMBOL, \u001B[38;5;241m1\u001B[39m),\n\u001B[1;32m    302\u001B[0m                        (INDEX, \u001B[38;5;241m1\u001B[39m),\n\u001B[1;32m    303\u001B[0m                        (START, \u001B[38;5;241m1\u001B[39m),\n\u001B[1;32m    304\u001B[0m                        (VERSION, \u001B[38;5;241m1\u001B[39m),\n\u001B[1;32m    305\u001B[0m                        (IMAGE_DOC, \u001B[38;5;241m1\u001B[39m)] \u001B[38;5;241m+\u001B[39m\n\u001B[1;32m    306\u001B[0m                       [(COLUMNS \u001B[38;5;241m+\u001B[39m \u001B[38;5;124m'\u001B[39m\u001B[38;5;124m.\u001B[39m\u001B[38;5;132;01m%s\u001B[39;00m\u001B[38;5;124m'\u001B[39m \u001B[38;5;241m%\u001B[39m c, \u001B[38;5;241m1\u001B[39m) \u001B[38;5;28;01mfor\u001B[39;00m c \u001B[38;5;129;01min\u001B[39;00m columns])\n",
      "File \u001B[0;32m~/.pyenv/versions/3.8.10/lib/python3.8/site-packages/arctic/tickstore/tickstore.py:237\u001B[0m, in \u001B[0;36mTickStore._mongo_date_range_query\u001B[0;34m(self, symbol, date_range)\u001B[0m\n\u001B[1;32m    233\u001B[0m     first_doc \u001B[38;5;241m=\u001B[39m \u001B[38;5;28mself\u001B[39m\u001B[38;5;241m.\u001B[39m_collection\u001B[38;5;241m.\u001B[39mfind_one(\u001B[38;5;28mself\u001B[39m\u001B[38;5;241m.\u001B[39m_symbol_query(symbol),\n\u001B[1;32m    234\u001B[0m                                           projection\u001B[38;5;241m=\u001B[39m{START: \u001B[38;5;241m1\u001B[39m, ID: \u001B[38;5;241m0\u001B[39m},\n\u001B[1;32m    235\u001B[0m                                           sort\u001B[38;5;241m=\u001B[39m[(START, pymongo\u001B[38;5;241m.\u001B[39mASCENDING)])\n\u001B[1;32m    236\u001B[0m     \u001B[38;5;28;01mif\u001B[39;00m \u001B[38;5;129;01mnot\u001B[39;00m first_doc:\n\u001B[0;32m--> 237\u001B[0m         \u001B[38;5;28;01mraise\u001B[39;00m NoDataFoundException()\n\u001B[1;32m    239\u001B[0m     first_dt \u001B[38;5;241m=\u001B[39m first_doc[START]\n\u001B[1;32m    240\u001B[0m last_dt \u001B[38;5;241m=\u001B[39m first_dt \u001B[38;5;241m+\u001B[39m timedelta(days\u001B[38;5;241m=\u001B[39m\u001B[38;5;241m30\u001B[39m)\n",
      "\u001B[0;31mNoDataFoundException\u001B[0m: "
     ]
    }
   ],
   "source": [
    "df = lib.read(symb,date_range=None,columns=None)\n"
   ],
   "metadata": {
    "collapsed": false,
    "ExecuteTime": {
     "end_time": "2023-11-01T16:59:27.425965Z",
     "start_time": "2023-11-01T16:59:27.144127Z"
    }
   },
   "id": "3c2fcd72bf4743d2"
  },
  {
   "cell_type": "code",
   "execution_count": null,
   "outputs": [],
   "source": [],
   "metadata": {
    "collapsed": false
   },
   "id": "353e3ea602514f49"
  }
 ],
 "metadata": {
  "kernelspec": {
   "display_name": "Python 3",
   "language": "python",
   "name": "python3"
  },
  "language_info": {
   "codemirror_mode": {
    "name": "ipython",
    "version": 2
   },
   "file_extension": ".py",
   "mimetype": "text/x-python",
   "name": "python",
   "nbconvert_exporter": "python",
   "pygments_lexer": "ipython2",
   "version": "2.7.6"
  }
 },
 "nbformat": 4,
 "nbformat_minor": 5
}
